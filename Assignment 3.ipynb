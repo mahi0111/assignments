{
 "cells": [
  {
   "cell_type": "code",
   "execution_count": null,
   "id": "fc5fc95c-1acf-4e7f-ad6e-dad911de9501",
   "metadata": {},
   "outputs": [],
   "source": [
    "1. Difference Between print and return\n",
    " Q1: Write a function sum_numbers(a, b) that takes two\n",
    "       numbers as input and does the\n",
    "following:\n",
    "o Prints the sum of the numbers.\n",
    "o Returns the sum of the numbers.\n",
    "o Call the function and explain the difference between the print and return values.\n"
   ]
  },
  {
   "cell_type": "code",
   "execution_count": 6,
   "id": "d704b78b-5627-4fae-a5fe-c0e51141fe93",
   "metadata": {},
   "outputs": [],
   "source": [
    "def addition(a,b):\n",
    "    print(a+b)"
   ]
  },
  {
   "cell_type": "code",
   "execution_count": 8,
   "id": "3843b9ee-335a-4b50-b0db-aac1e6294038",
   "metadata": {},
   "outputs": [
    {
     "name": "stdout",
     "output_type": "stream",
     "text": [
      "15\n"
     ]
    }
   ],
   "source": [
    "addition(6,9)"
   ]
  },
  {
   "cell_type": "code",
   "execution_count": 10,
   "id": "68810266-f967-4835-9f5d-06fd9ff71810",
   "metadata": {},
   "outputs": [
    {
     "name": "stdout",
     "output_type": "stream",
     "text": [
      "15\n"
     ]
    },
    {
     "data": {
      "text/plain": [
       "NoneType"
      ]
     },
     "execution_count": 10,
     "metadata": {},
     "output_type": "execute_result"
    }
   ],
   "source": [
    "type(addition(6,9))"
   ]
  },
  {
   "cell_type": "code",
   "execution_count": 12,
   "id": "2a3fc068-b096-44f2-8a02-4765a40f8612",
   "metadata": {},
   "outputs": [],
   "source": [
    "def addition(a,b):\n",
    "    return a + b"
   ]
  },
  {
   "cell_type": "code",
   "execution_count": 15,
   "id": "c92babc2-ce54-45cb-aff2-24fc60f0626a",
   "metadata": {},
   "outputs": [
    {
     "data": {
      "text/plain": [
       "165"
      ]
     },
     "execution_count": 15,
     "metadata": {},
     "output_type": "execute_result"
    }
   ],
   "source": [
    "addition(89,76)"
   ]
  },
  {
   "cell_type": "code",
   "execution_count": 17,
   "id": "af3437d2-212b-48da-80e4-076f272f5e22",
   "metadata": {},
   "outputs": [
    {
     "data": {
      "text/plain": [
       "int"
      ]
     },
     "execution_count": 17,
     "metadata": {},
     "output_type": "execute_result"
    }
   ],
   "source": [
    "type(addition(89,76))"
   ]
  },
  {
   "cell_type": "code",
   "execution_count": null,
   "id": "e9351cae-91d6-43aa-8874-6c22470e6428",
   "metadata": {},
   "outputs": [],
   "source": [
    "In sum function if we done addition then write if we check\n",
    "type then it is nonetype while in return it is integer type. \n"
   ]
  },
  {
   "cell_type": "raw",
   "id": "59883efd-66ad-4567-a6e3-483f1463f99a",
   "metadata": {},
   "source": [
    " Q2: Write a program where:\n",
    "o You define a global variable counter with an initial value of 0.\n",
    "o Create a function increment() that increments counter by 1 each time it is called\n",
    "and prints its value.\n",
    "o Call the function three times and observe the output."
   ]
  },
  {
   "cell_type": "code",
   "execution_count": null,
   "id": "ddee2764-9652-40c2-aad4-af53d849da0a",
   "metadata": {},
   "outputs": [],
   "source": []
  }
 ],
 "metadata": {
  "kernelspec": {
   "display_name": "Python 3 (ipykernel)",
   "language": "python",
   "name": "python3"
  },
  "language_info": {
   "codemirror_mode": {
    "name": "ipython",
    "version": 3
   },
   "file_extension": ".py",
   "mimetype": "text/x-python",
   "name": "python",
   "nbconvert_exporter": "python",
   "pygments_lexer": "ipython3",
   "version": "3.12.7"
  }
 },
 "nbformat": 4,
 "nbformat_minor": 5
}
